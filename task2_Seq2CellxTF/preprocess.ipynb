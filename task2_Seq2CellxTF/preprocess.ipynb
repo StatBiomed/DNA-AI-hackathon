{
 "cells": [
  {
   "cell_type": "code",
   "execution_count": 3,
   "metadata": {},
   "outputs": [],
   "source": [
    "import pandas as pd \n",
    "import matplotlib.pyplot as plt \n",
    "import seaborn as sns \n",
    "import pybedtools\n",
    "from tqdm import tqdm \n",
    "import numpy as np \n",
    "import anndata\n",
    "import scanpy as sc "
   ]
  },
  {
   "cell_type": "code",
   "execution_count": 4,
   "metadata": {},
   "outputs": [],
   "source": [
    "BASE_DIR = \"/ssd/users/cfx\"\n",
    "chip_data_dir = f\"{BASE_DIR}/data/ENCODE_ChIP\"\n",
    "rna_data_dir = f\"{BASE_DIR}/data/ENCODE_Bulk_RNA\"\n",
    "Target_dir = f\"./data\""
   ]
  },
  {
   "cell_type": "markdown",
   "metadata": {},
   "source": [
    "## preprocess RNA data"
   ]
  },
  {
   "cell_type": "code",
   "execution_count": 3,
   "metadata": {},
   "outputs": [
    {
     "data": {
      "text/html": [
       "<div>\n",
       "<style scoped>\n",
       "    .dataframe tbody tr th:only-of-type {\n",
       "        vertical-align: middle;\n",
       "    }\n",
       "\n",
       "    .dataframe tbody tr th {\n",
       "        vertical-align: top;\n",
       "    }\n",
       "\n",
       "    .dataframe thead th {\n",
       "        text-align: right;\n",
       "    }\n",
       "</style>\n",
       "<table border=\"1\" class=\"dataframe\">\n",
       "  <thead>\n",
       "    <tr style=\"text-align: right;\">\n",
       "      <th></th>\n",
       "      <th>term_name</th>\n",
       "      <th>classification</th>\n",
       "      <th>name</th>\n",
       "      <th>simple_biosample_summary</th>\n",
       "      <th>SD of log ratios</th>\n",
       "      <th>Pearson correlation</th>\n",
       "      <th>Spearman correlation</th>\n",
       "      <th>MAD of log ratios</th>\n",
       "      <th>number_of_genes_detected</th>\n",
       "      <th>accession</th>\n",
       "      <th>assay_title</th>\n",
       "      <th>experiment</th>\n",
       "    </tr>\n",
       "  </thead>\n",
       "  <tbody>\n",
       "    <tr>\n",
       "      <th>ENCFF997PHW</th>\n",
       "      <td>endothelial cell of umbilical vein</td>\n",
       "      <td>primary cell</td>\n",
       "      <td>primary_cell_CL_0002618</td>\n",
       "      <td>newborn</td>\n",
       "      <td>0.588</td>\n",
       "      <td>0.965985</td>\n",
       "      <td>0.968487</td>\n",
       "      <td>0.473</td>\n",
       "      <td>12634.0</td>\n",
       "      <td>ENCFF997PHW</td>\n",
       "      <td>polyA plus RNA-seq</td>\n",
       "      <td>ENCSR654UPQ</td>\n",
       "    </tr>\n",
       "    <tr>\n",
       "      <th>ENCFF343HHX</th>\n",
       "      <td>CD8-positive, alpha-beta T cell</td>\n",
       "      <td>primary cell</td>\n",
       "      <td>primary_cell_CL_0000625</td>\n",
       "      <td>male adult (37 years)</td>\n",
       "      <td>NaN</td>\n",
       "      <td>NaN</td>\n",
       "      <td>NaN</td>\n",
       "      <td>NaN</td>\n",
       "      <td>15680.0</td>\n",
       "      <td>ENCFF343HHX</td>\n",
       "      <td>polyA plus RNA-seq</td>\n",
       "      <td>ENCSR861QKF</td>\n",
       "    </tr>\n",
       "    <tr>\n",
       "      <th>ENCFF813SDK</th>\n",
       "      <td>muscle of leg</td>\n",
       "      <td>tissue</td>\n",
       "      <td>tissue_UBERON_0001383</td>\n",
       "      <td>male embryo (101 days)</td>\n",
       "      <td>NaN</td>\n",
       "      <td>NaN</td>\n",
       "      <td>NaN</td>\n",
       "      <td>NaN</td>\n",
       "      <td>16958.0</td>\n",
       "      <td>ENCFF813SDK</td>\n",
       "      <td>polyA plus RNA-seq</td>\n",
       "      <td>ENCSR447IJE</td>\n",
       "    </tr>\n",
       "    <tr>\n",
       "      <th>ENCFF624FHC</th>\n",
       "      <td>dorsolateral prefrontal cortex</td>\n",
       "      <td>tissue</td>\n",
       "      <td>tissue_UBERON_0009834</td>\n",
       "      <td>female adult (81 years) with Cognitive impairment</td>\n",
       "      <td>NaN</td>\n",
       "      <td>NaN</td>\n",
       "      <td>NaN</td>\n",
       "      <td>NaN</td>\n",
       "      <td>16872.0</td>\n",
       "      <td>ENCFF624FHC</td>\n",
       "      <td>total RNA-seq</td>\n",
       "      <td>ENCSR777KAR</td>\n",
       "    </tr>\n",
       "    <tr>\n",
       "      <th>ENCFF513IPT</th>\n",
       "      <td>GM12878</td>\n",
       "      <td>cell line</td>\n",
       "      <td>cell_line_EFO_0002784</td>\n",
       "      <td>NaN</td>\n",
       "      <td>0.546</td>\n",
       "      <td>0.967598</td>\n",
       "      <td>0.968269</td>\n",
       "      <td>0.384</td>\n",
       "      <td>13227.0</td>\n",
       "      <td>ENCFF513IPT</td>\n",
       "      <td>polyA plus RNA-seq</td>\n",
       "      <td>ENCSR000EYN</td>\n",
       "    </tr>\n",
       "  </tbody>\n",
       "</table>\n",
       "</div>"
      ],
      "text/plain": [
       "                                      term_name classification  \\\n",
       "ENCFF997PHW  endothelial cell of umbilical vein   primary cell   \n",
       "ENCFF343HHX     CD8-positive, alpha-beta T cell   primary cell   \n",
       "ENCFF813SDK                       muscle of leg         tissue   \n",
       "ENCFF624FHC      dorsolateral prefrontal cortex         tissue   \n",
       "ENCFF513IPT                             GM12878      cell line   \n",
       "\n",
       "                                name  \\\n",
       "ENCFF997PHW  primary_cell_CL_0002618   \n",
       "ENCFF343HHX  primary_cell_CL_0000625   \n",
       "ENCFF813SDK    tissue_UBERON_0001383   \n",
       "ENCFF624FHC    tissue_UBERON_0009834   \n",
       "ENCFF513IPT    cell_line_EFO_0002784   \n",
       "\n",
       "                                      simple_biosample_summary  \\\n",
       "ENCFF997PHW                                            newborn   \n",
       "ENCFF343HHX                              male adult (37 years)   \n",
       "ENCFF813SDK                             male embryo (101 days)   \n",
       "ENCFF624FHC  female adult (81 years) with Cognitive impairment   \n",
       "ENCFF513IPT                                                NaN   \n",
       "\n",
       "             SD of log ratios  Pearson correlation  Spearman correlation  \\\n",
       "ENCFF997PHW             0.588             0.965985              0.968487   \n",
       "ENCFF343HHX               NaN                  NaN                   NaN   \n",
       "ENCFF813SDK               NaN                  NaN                   NaN   \n",
       "ENCFF624FHC               NaN                  NaN                   NaN   \n",
       "ENCFF513IPT             0.546             0.967598              0.968269   \n",
       "\n",
       "             MAD of log ratios  number_of_genes_detected    accession  \\\n",
       "ENCFF997PHW              0.473                   12634.0  ENCFF997PHW   \n",
       "ENCFF343HHX                NaN                   15680.0  ENCFF343HHX   \n",
       "ENCFF813SDK                NaN                   16958.0  ENCFF813SDK   \n",
       "ENCFF624FHC                NaN                   16872.0  ENCFF624FHC   \n",
       "ENCFF513IPT              0.384                   13227.0  ENCFF513IPT   \n",
       "\n",
       "                    assay_title   experiment  \n",
       "ENCFF997PHW  polyA plus RNA-seq  ENCSR654UPQ  \n",
       "ENCFF343HHX  polyA plus RNA-seq  ENCSR861QKF  \n",
       "ENCFF813SDK  polyA plus RNA-seq  ENCSR447IJE  \n",
       "ENCFF624FHC       total RNA-seq  ENCSR777KAR  \n",
       "ENCFF513IPT  polyA plus RNA-seq  ENCSR000EYN  "
      ]
     },
     "execution_count": 3,
     "metadata": {},
     "output_type": "execute_result"
    }
   ],
   "source": [
    "rna_meta = pd.read_csv(f\"{rna_data_dir}/gene_quantifications_meta.csv\", index_col=0)\n",
    "rna_meta[:5]"
   ]
  },
  {
   "cell_type": "code",
   "execution_count": 4,
   "metadata": {},
   "outputs": [
    {
     "data": {
      "text/html": [
       "<div>\n",
       "<style scoped>\n",
       "    .dataframe tbody tr th:only-of-type {\n",
       "        vertical-align: middle;\n",
       "    }\n",
       "\n",
       "    .dataframe tbody tr th {\n",
       "        vertical-align: top;\n",
       "    }\n",
       "\n",
       "    .dataframe thead th {\n",
       "        text-align: right;\n",
       "    }\n",
       "</style>\n",
       "<table border=\"1\" class=\"dataframe\">\n",
       "  <thead>\n",
       "    <tr style=\"text-align: right;\">\n",
       "      <th></th>\n",
       "      <th>ENCFF997PHW</th>\n",
       "      <th>ENCFF343HHX</th>\n",
       "      <th>ENCFF813SDK</th>\n",
       "      <th>ENCFF624FHC</th>\n",
       "      <th>ENCFF513IPT</th>\n",
       "      <th>ENCFF780XPP</th>\n",
       "      <th>ENCFF762VOE</th>\n",
       "      <th>ENCFF710YES</th>\n",
       "      <th>ENCFF566ZGR</th>\n",
       "      <th>ENCFF495AYZ</th>\n",
       "      <th>...</th>\n",
       "      <th>ENCFF201RLT</th>\n",
       "      <th>ENCFF472HFI</th>\n",
       "      <th>ENCFF367CLO</th>\n",
       "      <th>ENCFF617KGY</th>\n",
       "      <th>ENCFF545DTG</th>\n",
       "      <th>ENCFF422LVI</th>\n",
       "      <th>ENCFF766VIZ</th>\n",
       "      <th>ENCFF795IDG</th>\n",
       "      <th>ENCFF170TKR</th>\n",
       "      <th>ENCFF664LYH</th>\n",
       "    </tr>\n",
       "  </thead>\n",
       "  <tbody>\n",
       "    <tr>\n",
       "      <th>ENSG00000000003.14</th>\n",
       "      <td>32.69</td>\n",
       "      <td>0.62</td>\n",
       "      <td>25.13</td>\n",
       "      <td>2.86</td>\n",
       "      <td>0.06</td>\n",
       "      <td>2.41</td>\n",
       "      <td>2.11</td>\n",
       "      <td>3.60</td>\n",
       "      <td>7.48</td>\n",
       "      <td>1.05</td>\n",
       "      <td>...</td>\n",
       "      <td>4.14</td>\n",
       "      <td>0.00</td>\n",
       "      <td>0.00</td>\n",
       "      <td>1.82</td>\n",
       "      <td>2.25</td>\n",
       "      <td>23.46</td>\n",
       "      <td>8.20</td>\n",
       "      <td>0.25</td>\n",
       "      <td>0.03</td>\n",
       "      <td>0.00</td>\n",
       "    </tr>\n",
       "    <tr>\n",
       "      <th>ENSG00000000005.5</th>\n",
       "      <td>0.00</td>\n",
       "      <td>0.20</td>\n",
       "      <td>291.94</td>\n",
       "      <td>0.00</td>\n",
       "      <td>0.00</td>\n",
       "      <td>0.00</td>\n",
       "      <td>0.00</td>\n",
       "      <td>0.00</td>\n",
       "      <td>0.00</td>\n",
       "      <td>0.02</td>\n",
       "      <td>...</td>\n",
       "      <td>0.04</td>\n",
       "      <td>0.00</td>\n",
       "      <td>0.00</td>\n",
       "      <td>0.00</td>\n",
       "      <td>0.00</td>\n",
       "      <td>74.01</td>\n",
       "      <td>0.72</td>\n",
       "      <td>0.03</td>\n",
       "      <td>0.00</td>\n",
       "      <td>0.00</td>\n",
       "    </tr>\n",
       "    <tr>\n",
       "      <th>ENSG00000000419.12</th>\n",
       "      <td>49.82</td>\n",
       "      <td>24.79</td>\n",
       "      <td>33.73</td>\n",
       "      <td>7.78</td>\n",
       "      <td>37.62</td>\n",
       "      <td>1.79</td>\n",
       "      <td>8.56</td>\n",
       "      <td>5.36</td>\n",
       "      <td>91.68</td>\n",
       "      <td>1.40</td>\n",
       "      <td>...</td>\n",
       "      <td>6.56</td>\n",
       "      <td>134.90</td>\n",
       "      <td>79.57</td>\n",
       "      <td>0.90</td>\n",
       "      <td>8.61</td>\n",
       "      <td>36.84</td>\n",
       "      <td>15.79</td>\n",
       "      <td>0.55</td>\n",
       "      <td>23.85</td>\n",
       "      <td>36.93</td>\n",
       "    </tr>\n",
       "    <tr>\n",
       "      <th>ENSG00000000457.13</th>\n",
       "      <td>1.58</td>\n",
       "      <td>15.17</td>\n",
       "      <td>6.13</td>\n",
       "      <td>2.71</td>\n",
       "      <td>6.69</td>\n",
       "      <td>0.38</td>\n",
       "      <td>2.35</td>\n",
       "      <td>1.73</td>\n",
       "      <td>11.97</td>\n",
       "      <td>0.52</td>\n",
       "      <td>...</td>\n",
       "      <td>2.97</td>\n",
       "      <td>2.57</td>\n",
       "      <td>2.35</td>\n",
       "      <td>0.35</td>\n",
       "      <td>0.70</td>\n",
       "      <td>9.29</td>\n",
       "      <td>7.05</td>\n",
       "      <td>0.22</td>\n",
       "      <td>6.44</td>\n",
       "      <td>2.19</td>\n",
       "    </tr>\n",
       "    <tr>\n",
       "      <th>ENSG00000000460.16</th>\n",
       "      <td>9.35</td>\n",
       "      <td>4.44</td>\n",
       "      <td>5.13</td>\n",
       "      <td>2.67</td>\n",
       "      <td>8.75</td>\n",
       "      <td>0.16</td>\n",
       "      <td>1.59</td>\n",
       "      <td>0.32</td>\n",
       "      <td>3.76</td>\n",
       "      <td>0.32</td>\n",
       "      <td>...</td>\n",
       "      <td>1.87</td>\n",
       "      <td>40.20</td>\n",
       "      <td>11.73</td>\n",
       "      <td>0.19</td>\n",
       "      <td>0.42</td>\n",
       "      <td>6.99</td>\n",
       "      <td>2.19</td>\n",
       "      <td>0.08</td>\n",
       "      <td>3.21</td>\n",
       "      <td>13.40</td>\n",
       "    </tr>\n",
       "  </tbody>\n",
       "</table>\n",
       "<p>5 rows × 1008 columns</p>\n",
       "</div>"
      ],
      "text/plain": [
       "                    ENCFF997PHW  ENCFF343HHX  ENCFF813SDK  ENCFF624FHC  \\\n",
       "ENSG00000000003.14        32.69         0.62        25.13         2.86   \n",
       "ENSG00000000005.5          0.00         0.20       291.94         0.00   \n",
       "ENSG00000000419.12        49.82        24.79        33.73         7.78   \n",
       "ENSG00000000457.13         1.58        15.17         6.13         2.71   \n",
       "ENSG00000000460.16         9.35         4.44         5.13         2.67   \n",
       "\n",
       "                    ENCFF513IPT  ENCFF780XPP  ENCFF762VOE  ENCFF710YES  \\\n",
       "ENSG00000000003.14         0.06         2.41         2.11         3.60   \n",
       "ENSG00000000005.5          0.00         0.00         0.00         0.00   \n",
       "ENSG00000000419.12        37.62         1.79         8.56         5.36   \n",
       "ENSG00000000457.13         6.69         0.38         2.35         1.73   \n",
       "ENSG00000000460.16         8.75         0.16         1.59         0.32   \n",
       "\n",
       "                    ENCFF566ZGR  ENCFF495AYZ  ...  ENCFF201RLT  ENCFF472HFI  \\\n",
       "ENSG00000000003.14         7.48         1.05  ...         4.14         0.00   \n",
       "ENSG00000000005.5          0.00         0.02  ...         0.04         0.00   \n",
       "ENSG00000000419.12        91.68         1.40  ...         6.56       134.90   \n",
       "ENSG00000000457.13        11.97         0.52  ...         2.97         2.57   \n",
       "ENSG00000000460.16         3.76         0.32  ...         1.87        40.20   \n",
       "\n",
       "                    ENCFF367CLO  ENCFF617KGY  ENCFF545DTG  ENCFF422LVI  \\\n",
       "ENSG00000000003.14         0.00         1.82         2.25        23.46   \n",
       "ENSG00000000005.5          0.00         0.00         0.00        74.01   \n",
       "ENSG00000000419.12        79.57         0.90         8.61        36.84   \n",
       "ENSG00000000457.13         2.35         0.35         0.70         9.29   \n",
       "ENSG00000000460.16        11.73         0.19         0.42         6.99   \n",
       "\n",
       "                    ENCFF766VIZ  ENCFF795IDG  ENCFF170TKR  ENCFF664LYH  \n",
       "ENSG00000000003.14         8.20         0.25         0.03         0.00  \n",
       "ENSG00000000005.5          0.72         0.03         0.00         0.00  \n",
       "ENSG00000000419.12        15.79         0.55        23.85        36.93  \n",
       "ENSG00000000457.13         7.05         0.22         6.44         2.19  \n",
       "ENSG00000000460.16         2.19         0.08         3.21        13.40  \n",
       "\n",
       "[5 rows x 1008 columns]"
      ]
     },
     "execution_count": 4,
     "metadata": {},
     "output_type": "execute_result"
    }
   ],
   "source": [
    "tpms = pd.read_csv(f\"{rna_data_dir}/tpms.csv\", index_col=0)\n",
    "tpms[:5]"
   ]
  },
  {
   "cell_type": "code",
   "execution_count": 5,
   "metadata": {},
   "outputs": [
    {
     "name": "stdout",
     "output_type": "stream",
     "text": [
      "1969.0 22461.0\n"
     ]
    },
    {
     "data": {
      "image/png": "[encoded data removed]",
      "text/plain": [
       "<Figure size 800x300 with 2 Axes>"
      ]
     },
     "metadata": {},
     "output_type": "display_data"
    }
   ],
   "source": [
    "fig, ax = plt.subplots(1,2,figsize=(8, 3))\n",
    "ax[0].hist(rna_meta[rna_meta['assay_title']==\"polyA plus RNA-seq\"]['number_of_genes_detected'], bins=100);\n",
    "ax[1].hist(rna_meta[rna_meta['assay_title']==\"total RNA-seq\"]['number_of_genes_detected'], bins=100);\n",
    "\n",
    "print(rna_meta['number_of_genes_detected'].min(), rna_meta['number_of_genes_detected'].max())"
   ]
  },
  {
   "cell_type": "code",
   "execution_count": 6,
   "metadata": {},
   "outputs": [
    {
     "data": {
      "text/html": [
       "<div>\n",
       "<style scoped>\n",
       "    .dataframe tbody tr th:only-of-type {\n",
       "        vertical-align: middle;\n",
       "    }\n",
       "\n",
       "    .dataframe tbody tr th {\n",
       "        vertical-align: top;\n",
       "    }\n",
       "\n",
       "    .dataframe thead th {\n",
       "        text-align: right;\n",
       "    }\n",
       "</style>\n",
       "<table border=\"1\" class=\"dataframe\">\n",
       "  <thead>\n",
       "    <tr style=\"text-align: right;\">\n",
       "      <th></th>\n",
       "      <th>Accession</th>\n",
       "      <th>Target of assay</th>\n",
       "      <th>Biosample term name</th>\n",
       "      <th>Biosample classification</th>\n",
       "      <th>Assay title</th>\n",
       "      <th>bed narrowPeak</th>\n",
       "      <th>process version</th>\n",
       "    </tr>\n",
       "  </thead>\n",
       "  <tbody>\n",
       "    <tr>\n",
       "      <th>0</th>\n",
       "      <td>ENCSR577YCO</td>\n",
       "      <td>ARHGAP35</td>\n",
       "      <td>HepG2</td>\n",
       "      <td>cell line</td>\n",
       "      <td>TF ChIP-seq</td>\n",
       "      <td>ENCFF639APT</td>\n",
       "      <td>ENCODE4 v1.9.0 GRCh38</td>\n",
       "    </tr>\n",
       "    <tr>\n",
       "      <th>1</th>\n",
       "      <td>ENCSR924LSO</td>\n",
       "      <td>E2F4</td>\n",
       "      <td>HepG2</td>\n",
       "      <td>cell line</td>\n",
       "      <td>TF ChIP-seq</td>\n",
       "      <td>ENCFF245XOL</td>\n",
       "      <td>ENCODE4 v1.4.0 GRCh38</td>\n",
       "    </tr>\n",
       "    <tr>\n",
       "      <th>2</th>\n",
       "      <td>ENCSR724YTA</td>\n",
       "      <td>CTCF</td>\n",
       "      <td>dorsolateral prefrontal cortex</td>\n",
       "      <td>tissue</td>\n",
       "      <td>TF ChIP-seq</td>\n",
       "      <td>ENCFF141KSG</td>\n",
       "      <td>ENCODE4 v1.8.0 GRCh38</td>\n",
       "    </tr>\n",
       "    <tr>\n",
       "      <th>3</th>\n",
       "      <td>ENCSR423ZUM</td>\n",
       "      <td>CTCF</td>\n",
       "      <td>dorsolateral prefrontal cortex</td>\n",
       "      <td>tissue</td>\n",
       "      <td>TF ChIP-seq</td>\n",
       "      <td>ENCFF822EDI</td>\n",
       "      <td>ENCODE4 v1.8.0 GRCh38</td>\n",
       "    </tr>\n",
       "    <tr>\n",
       "      <th>4</th>\n",
       "      <td>ENCSR763FNU</td>\n",
       "      <td>CGGBP1</td>\n",
       "      <td>K562</td>\n",
       "      <td>cell line</td>\n",
       "      <td>TF ChIP-seq</td>\n",
       "      <td>ENCFF771XZZ</td>\n",
       "      <td>ENCODE4 v1.9.0 GRCh38</td>\n",
       "    </tr>\n",
       "  </tbody>\n",
       "</table>\n",
       "</div>"
      ],
      "text/plain": [
       "     Accession Target of assay             Biosample term name  \\\n",
       "0  ENCSR577YCO        ARHGAP35                           HepG2   \n",
       "1  ENCSR924LSO            E2F4                           HepG2   \n",
       "2  ENCSR724YTA            CTCF  dorsolateral prefrontal cortex   \n",
       "3  ENCSR423ZUM            CTCF  dorsolateral prefrontal cortex   \n",
       "4  ENCSR763FNU          CGGBP1                            K562   \n",
       "\n",
       "  Biosample classification  Assay title bed narrowPeak        process version  \n",
       "0                cell line  TF ChIP-seq    ENCFF639APT  ENCODE4 v1.9.0 GRCh38  \n",
       "1                cell line  TF ChIP-seq    ENCFF245XOL  ENCODE4 v1.4.0 GRCh38  \n",
       "2                   tissue  TF ChIP-seq    ENCFF141KSG  ENCODE4 v1.8.0 GRCh38  \n",
       "3                   tissue  TF ChIP-seq    ENCFF822EDI  ENCODE4 v1.8.0 GRCh38  \n",
       "4                cell line  TF ChIP-seq    ENCFF771XZZ  ENCODE4 v1.9.0 GRCh38  "
      ]
     },
     "execution_count": 6,
     "metadata": {},
     "output_type": "execute_result"
    }
   ],
   "source": [
    "## intersect ChIP samples \n",
    "chip_meta = pd.read_csv(f\"{chip_data_dir}/ENCODE4_TF_ChIPseq_bed_list.tsv\", delimiter=\"\\t\")\n",
    "chip_meta[:5]"
   ]
  },
  {
   "cell_type": "code",
   "execution_count": 7,
   "metadata": {},
   "outputs": [
    {
     "name": "stdout",
     "output_type": "stream",
     "text": [
      "280\n",
      "177\n"
     ]
    }
   ],
   "source": [
    "tissue_rna = list(set(rna_meta['term_name']))\n",
    "print(len(tissue_rna))\n",
    "tissues_chip = list(set(chip_meta['Biosample term name']))\n",
    "print(len(tissues_chip))"
   ]
  },
  {
   "cell_type": "code",
   "execution_count": 8,
   "metadata": {},
   "outputs": [
    {
     "data": {
      "text/plain": [
       "Index(['HepG2', 'dorsolateral prefrontal cortex', 'K562', 'pancreas',\n",
       "       'SK-N-SH', 'WTC11', 'spleen', 'adrenal gland', 'A549',\n",
       "       'heart right ventricle',\n",
       "       ...\n",
       "       'osteocyte', 'subcutaneous adipose tissue', 'smooth muscle cell',\n",
       "       'endothelial cell', 'mesothelial cell of epicardium',\n",
       "       'type B pancreatic cell', 'endodermal cell', 'H9',\n",
       "       'progenitor cell of endocrine pancreas', 'activated B cell'],\n",
       "      dtype='object', name='Biosample term name', length=111)"
      ]
     },
     "execution_count": 8,
     "metadata": {},
     "output_type": "execute_result"
    }
   ],
   "source": [
    "tissue_overlap = pd.Index(chip_meta['Biosample term name']).intersection(rna_meta['term_name'])\n",
    "tissue_overlap"
   ]
  },
  {
   "cell_type": "code",
   "execution_count": 9,
   "metadata": {},
   "outputs": [
    {
     "name": "stdout",
     "output_type": "stream",
     "text": [
      "HepG2 625 17\n",
      "dorsolateral prefrontal cortex 59 120\n",
      "K562 515 34\n",
      "pancreas 5 9\n",
      "SK-N-SH 55 4\n",
      "WTC11 82 8\n",
      "spleen 13 14\n",
      "adrenal gland 6 16\n",
      "A549 59 15\n",
      "heart right ventricle 11 12\n",
      "heart left ventricle 14 11\n",
      "neural progenitor cell 2 1\n",
      "left ventricle myocardium inferior 1 1\n",
      "body of pancreas 7 2\n",
      "GM12878 138 19\n",
      "uterus 4 4\n",
      "upper lobe of left lung 11 6\n",
      "thyroid gland 7 5\n",
      "tibial nerve 8 4\n",
      "stomach 8 15\n",
      "gastroesophageal sphincter 8 4\n",
      "B cell 2 3\n",
      "IMR-90 12 6\n",
      "mucosa of descending colon 1 3\n",
      "HeLa-S3 47 5\n",
      "fibroblast of the aortic adventitia 1 1\n",
      "H1 46 12\n",
      "MCF-7 106 5\n",
      "fibroblast of villous mesenchyme 1 1\n",
      "fibroblast of dermis 1 1\n",
      "GM23338 12 3\n",
      "keratinocyte 3 5\n",
      "placenta 2 13\n",
      "HCT116 19 2\n",
      "Caco-2 2 1\n",
      "AG04450 1 1\n",
      "GM12892 2 1\n",
      "Panc1 5 2\n",
      "mammary epithelial cell 2 4\n",
      "neural cell 4 1\n",
      "kidney 1 6\n",
      "lung 1 5\n",
      "PFSK-1 3 1\n",
      "liver 30 5\n",
      "PC-9 1 1\n",
      "bronchial epithelial cell 1 1\n",
      "endothelial cell of umbilical vein 8 6\n",
      "GM12891 3 1\n",
      "fibroblast of lung 3 3\n",
      "BE2C 1 1\n",
      "epithelial cell of proximal tubule 1 1\n",
      "osteoblast 1 1\n",
      "foreskin fibroblast 2 2\n",
      "prostate gland 4 2\n",
      "CD14-positive monocyte 2 8\n",
      "kidney epithelial cell 1 1\n",
      "brain 4 1\n",
      "cardiac muscle cell 2 2\n",
      "activated CD8-positive, alpha-beta T cell 1 4\n",
      "suprapubic skin 5 4\n",
      "psoas muscle 1 7\n",
      "CD8-positive, alpha-beta T cell 1 4\n",
      "colonic mucosa 1 2\n",
      "upper lobe of right lung 1 1\n",
      "Calu3 1 1\n",
      "activated CD4-positive, alpha-beta T cell 1 5\n",
      "esophagus muscularis mucosa 6 4\n",
      "testis 3 4\n",
      "right atrium auricular region 3 2\n",
      "ascending aorta 3 1\n",
      "gastrocnemius medialis 5 4\n",
      "left lung 2 8\n",
      "BJ 1 1\n",
      "natural killer cell 1 6\n",
      "CD4-positive, alpha-beta T cell 1 4\n",
      "ovary 4 10\n",
      "lower lobe of right lung 1 1\n",
      "right lobe of liver 4 6\n",
      "OCI-LY7 1 2\n",
      "MCF 10A 1 1\n",
      "Peyer's patch 6 4\n",
      "esophagus squamous epithelium 6 4\n",
      "transverse colon 9 4\n",
      "omental fat pad 3 4\n",
      "lower leg skin 4 4\n",
      "breast epithelium 3 3\n",
      "thoracic aorta 2 2\n",
      "foreskin keratinocyte 1 4\n",
      "vagina 3 1\n",
      "PC-3 1 2\n",
      "myotube 1 1\n",
      "glutamatergic neuron 1 1\n",
      "sigmoid colon 8 8\n",
      "astrocyte 2 3\n",
      "lower lobe of left lung 2 3\n",
      "HFFc6 1 6\n",
      "skeletal muscle myoblast 1 3\n",
      "hepatocyte 1 2\n",
      "neural crest cell 1 1\n",
      "A673 1 1\n",
      "chondrocyte 1 1\n",
      "osteocyte 1 1\n",
      "subcutaneous adipose tissue 1 4\n",
      "smooth muscle cell 1 2\n",
      "endothelial cell 1 1\n",
      "mesothelial cell of epicardium 1 1\n",
      "type B pancreatic cell 1 1\n",
      "endodermal cell 1 4\n",
      "H9 1 1\n",
      "progenitor cell of endocrine pancreas 1 1\n",
      "activated B cell 1 1\n"
     ]
    }
   ],
   "source": [
    "for i, tissue in enumerate(tissue_overlap):\n",
    "    chip_sub = chip_meta[chip_meta['Biosample term name']==tissue]\n",
    "    rna_sub = rna_meta[rna_meta['term_name']==tissue]\n",
    "    print(tissue, len(chip_sub), len(rna_sub))"
   ]
  },
  {
   "cell_type": "code",
   "execution_count": 10,
   "metadata": {},
   "outputs": [
    {
     "name": "stdout",
     "output_type": "stream",
     "text": [
      "(92380, 1008)\n",
      "(79402, 1008)\n"
     ]
    },
    {
     "data": {
      "text/html": [
       "<div>\n",
       "<style scoped>\n",
       "    .dataframe tbody tr th:only-of-type {\n",
       "        vertical-align: middle;\n",
       "    }\n",
       "\n",
       "    .dataframe tbody tr th {\n",
       "        vertical-align: top;\n",
       "    }\n",
       "\n",
       "    .dataframe thead th {\n",
       "        text-align: right;\n",
       "    }\n",
       "</style>\n",
       "<table border=\"1\" class=\"dataframe\">\n",
       "  <thead>\n",
       "    <tr style=\"text-align: right;\">\n",
       "      <th></th>\n",
       "      <th>ENCFF997PHW</th>\n",
       "      <th>ENCFF343HHX</th>\n",
       "      <th>ENCFF813SDK</th>\n",
       "      <th>ENCFF624FHC</th>\n",
       "      <th>ENCFF513IPT</th>\n",
       "      <th>ENCFF780XPP</th>\n",
       "      <th>ENCFF762VOE</th>\n",
       "      <th>ENCFF710YES</th>\n",
       "      <th>ENCFF566ZGR</th>\n",
       "      <th>ENCFF495AYZ</th>\n",
       "      <th>...</th>\n",
       "      <th>ENCFF201RLT</th>\n",
       "      <th>ENCFF472HFI</th>\n",
       "      <th>ENCFF367CLO</th>\n",
       "      <th>ENCFF617KGY</th>\n",
       "      <th>ENCFF545DTG</th>\n",
       "      <th>ENCFF422LVI</th>\n",
       "      <th>ENCFF766VIZ</th>\n",
       "      <th>ENCFF795IDG</th>\n",
       "      <th>ENCFF170TKR</th>\n",
       "      <th>ENCFF664LYH</th>\n",
       "    </tr>\n",
       "  </thead>\n",
       "  <tbody>\n",
       "    <tr>\n",
       "      <th>ENSG00000000003.14</th>\n",
       "      <td>32.69</td>\n",
       "      <td>0.62</td>\n",
       "      <td>25.13</td>\n",
       "      <td>2.86</td>\n",
       "      <td>0.06</td>\n",
       "      <td>2.41</td>\n",
       "      <td>2.11</td>\n",
       "      <td>3.60</td>\n",
       "      <td>7.48</td>\n",
       "      <td>1.05</td>\n",
       "      <td>...</td>\n",
       "      <td>4.14</td>\n",
       "      <td>0.00</td>\n",
       "      <td>0.00</td>\n",
       "      <td>1.82</td>\n",
       "      <td>2.25</td>\n",
       "      <td>23.46</td>\n",
       "      <td>8.20</td>\n",
       "      <td>0.25</td>\n",
       "      <td>0.03</td>\n",
       "      <td>0.00</td>\n",
       "    </tr>\n",
       "    <tr>\n",
       "      <th>ENSG00000000005.5</th>\n",
       "      <td>0.00</td>\n",
       "      <td>0.20</td>\n",
       "      <td>291.94</td>\n",
       "      <td>0.00</td>\n",
       "      <td>0.00</td>\n",
       "      <td>0.00</td>\n",
       "      <td>0.00</td>\n",
       "      <td>0.00</td>\n",
       "      <td>0.00</td>\n",
       "      <td>0.02</td>\n",
       "      <td>...</td>\n",
       "      <td>0.04</td>\n",
       "      <td>0.00</td>\n",
       "      <td>0.00</td>\n",
       "      <td>0.00</td>\n",
       "      <td>0.00</td>\n",
       "      <td>74.01</td>\n",
       "      <td>0.72</td>\n",
       "      <td>0.03</td>\n",
       "      <td>0.00</td>\n",
       "      <td>0.00</td>\n",
       "    </tr>\n",
       "    <tr>\n",
       "      <th>ENSG00000000419.12</th>\n",
       "      <td>49.82</td>\n",
       "      <td>24.79</td>\n",
       "      <td>33.73</td>\n",
       "      <td>7.78</td>\n",
       "      <td>37.62</td>\n",
       "      <td>1.79</td>\n",
       "      <td>8.56</td>\n",
       "      <td>5.36</td>\n",
       "      <td>91.68</td>\n",
       "      <td>1.40</td>\n",
       "      <td>...</td>\n",
       "      <td>6.56</td>\n",
       "      <td>134.90</td>\n",
       "      <td>79.57</td>\n",
       "      <td>0.90</td>\n",
       "      <td>8.61</td>\n",
       "      <td>36.84</td>\n",
       "      <td>15.79</td>\n",
       "      <td>0.55</td>\n",
       "      <td>23.85</td>\n",
       "      <td>36.93</td>\n",
       "    </tr>\n",
       "    <tr>\n",
       "      <th>ENSG00000000457.13</th>\n",
       "      <td>1.58</td>\n",
       "      <td>15.17</td>\n",
       "      <td>6.13</td>\n",
       "      <td>2.71</td>\n",
       "      <td>6.69</td>\n",
       "      <td>0.38</td>\n",
       "      <td>2.35</td>\n",
       "      <td>1.73</td>\n",
       "      <td>11.97</td>\n",
       "      <td>0.52</td>\n",
       "      <td>...</td>\n",
       "      <td>2.97</td>\n",
       "      <td>2.57</td>\n",
       "      <td>2.35</td>\n",
       "      <td>0.35</td>\n",
       "      <td>0.70</td>\n",
       "      <td>9.29</td>\n",
       "      <td>7.05</td>\n",
       "      <td>0.22</td>\n",
       "      <td>6.44</td>\n",
       "      <td>2.19</td>\n",
       "    </tr>\n",
       "    <tr>\n",
       "      <th>ENSG00000000460.16</th>\n",
       "      <td>9.35</td>\n",
       "      <td>4.44</td>\n",
       "      <td>5.13</td>\n",
       "      <td>2.67</td>\n",
       "      <td>8.75</td>\n",
       "      <td>0.16</td>\n",
       "      <td>1.59</td>\n",
       "      <td>0.32</td>\n",
       "      <td>3.76</td>\n",
       "      <td>0.32</td>\n",
       "      <td>...</td>\n",
       "      <td>1.87</td>\n",
       "      <td>40.20</td>\n",
       "      <td>11.73</td>\n",
       "      <td>0.19</td>\n",
       "      <td>0.42</td>\n",
       "      <td>6.99</td>\n",
       "      <td>2.19</td>\n",
       "      <td>0.08</td>\n",
       "      <td>3.21</td>\n",
       "      <td>13.40</td>\n",
       "    </tr>\n",
       "  </tbody>\n",
       "</table>\n",
       "<p>5 rows × 1008 columns</p>\n",
       "</div>"
      ],
      "text/plain": [
       "                    ENCFF997PHW  ENCFF343HHX  ENCFF813SDK  ENCFF624FHC  \\\n",
       "ENSG00000000003.14        32.69         0.62        25.13         2.86   \n",
       "ENSG00000000005.5          0.00         0.20       291.94         0.00   \n",
       "ENSG00000000419.12        49.82        24.79        33.73         7.78   \n",
       "ENSG00000000457.13         1.58        15.17         6.13         2.71   \n",
       "ENSG00000000460.16         9.35         4.44         5.13         2.67   \n",
       "\n",
       "                    ENCFF513IPT  ENCFF780XPP  ENCFF762VOE  ENCFF710YES  \\\n",
       "ENSG00000000003.14         0.06         2.41         2.11         3.60   \n",
       "ENSG00000000005.5          0.00         0.00         0.00         0.00   \n",
       "ENSG00000000419.12        37.62         1.79         8.56         5.36   \n",
       "ENSG00000000457.13         6.69         0.38         2.35         1.73   \n",
       "ENSG00000000460.16         8.75         0.16         1.59         0.32   \n",
       "\n",
       "                    ENCFF566ZGR  ENCFF495AYZ  ...  ENCFF201RLT  ENCFF472HFI  \\\n",
       "ENSG00000000003.14         7.48         1.05  ...         4.14         0.00   \n",
       "ENSG00000000005.5          0.00         0.02  ...         0.04         0.00   \n",
       "ENSG00000000419.12        91.68         1.40  ...         6.56       134.90   \n",
       "ENSG00000000457.13        11.97         0.52  ...         2.97         2.57   \n",
       "ENSG00000000460.16         3.76         0.32  ...         1.87        40.20   \n",
       "\n",
       "                    ENCFF367CLO  ENCFF617KGY  ENCFF545DTG  ENCFF422LVI  \\\n",
       "ENSG00000000003.14         0.00         1.82         2.25        23.46   \n",
       "ENSG00000000005.5          0.00         0.00         0.00        74.01   \n",
       "ENSG00000000419.12        79.57         0.90         8.61        36.84   \n",
       "ENSG00000000457.13         2.35         0.35         0.70         9.29   \n",
       "ENSG00000000460.16        11.73         0.19         0.42         6.99   \n",
       "\n",
       "                    ENCFF766VIZ  ENCFF795IDG  ENCFF170TKR  ENCFF664LYH  \n",
       "ENSG00000000003.14         8.20         0.25         0.03         0.00  \n",
       "ENSG00000000005.5          0.72         0.03         0.00         0.00  \n",
       "ENSG00000000419.12        15.79         0.55        23.85        36.93  \n",
       "ENSG00000000457.13         7.05         0.22         6.44         2.19  \n",
       "ENSG00000000460.16         2.19         0.08         3.21        13.40  \n",
       "\n",
       "[5 rows x 1008 columns]"
      ]
     },
     "execution_count": 10,
     "metadata": {},
     "output_type": "execute_result"
    }
   ],
   "source": [
    "tpm_dir = f\"{BASE_DIR}/data/ENCODE_Bulk_RNA\"\n",
    "tpms = pd.read_csv(f\"{rna_data_dir}/tpms.csv\", index_col=0)\n",
    "## subset to rnas in intersected tissue \n",
    "tpms = tpms.loc[:,rna_meta['accession']]\n",
    "print(tpms.shape)\n",
    "tpms = tpms.fillna(0)\n",
    "tpms = tpms.loc[tpms.sum(axis=1)!=0,]       ## remove all 0 rows \n",
    "print(tpms.shape)\n",
    "## map accession to tissues \n",
    "# col_rename_map = dict(zip(rna_meta['accession'], rna_meta['term_name']))\n",
    "# col_rename_map = {k:f\"{col_rename_map[k]}_{k}\" for k in col_rename_map}\n",
    "# tpms = tpms.rename(col_rename_map, axis=1)\n",
    "tpms[:5]        "
   ]
  },
  {
   "cell_type": "code",
   "execution_count": 11,
   "metadata": {},
   "outputs": [
    {
     "data": {
      "text/plain": [
       "(59096, 1008)"
      ]
     },
     "execution_count": 11,
     "metadata": {},
     "output_type": "execute_result"
    }
   ],
   "source": [
    "### group tpms of different geneid versions\n",
    "tpms['ensembl'] = list(map(lambda x: x.split(\".\")[0], tpms.index))          ##remove & merge version number appended? see https://www.gencodegenes.org/pages/data_format.html\n",
    "tpms_genes = tpms.groupby(\"ensembl\").sum()\n",
    "tpms_genes.shape"
   ]
  },
  {
   "cell_type": "code",
   "execution_count": 12,
   "metadata": {},
   "outputs": [
    {
     "data": {
      "text/plain": [
       "AnnData object with n_obs × n_vars = 1008 × 59096\n",
       "    obs: 'term_name', 'classification', 'name', 'simple_biosample_summary', 'SD of log ratios', 'Pearson correlation', 'Spearman correlation', 'MAD of log ratios', 'number_of_genes_detected', 'accession', 'assay_title', 'experiment'"
      ]
     },
     "execution_count": 12,
     "metadata": {},
     "output_type": "execute_result"
    }
   ],
   "source": [
    "ad_rna_bulk = anndata.AnnData(tpms_genes.T)\n",
    "ad_rna_bulk.obs = rna_meta\n",
    "ad_rna_bulk"
   ]
  },
  {
   "cell_type": "code",
   "execution_count": 13,
   "metadata": {},
   "outputs": [
    {
     "data": {
      "text/plain": [
       "View of AnnData object with n_obs × n_vars = 600 × 59096\n",
       "    obs: 'term_name', 'classification', 'name', 'simple_biosample_summary', 'SD of log ratios', 'Pearson correlation', 'Spearman correlation', 'MAD of log ratios', 'number_of_genes_detected', 'accession', 'assay_title', 'experiment'"
      ]
     },
     "execution_count": 13,
     "metadata": {},
     "output_type": "execute_result"
    }
   ],
   "source": [
    "## actually subset to overlapped tissues \n",
    "ad_rna_bulk = ad_rna_bulk[ad_rna_bulk.obs['term_name'].isin(tissue_overlap)]\n",
    "ad_rna_bulk"
   ]
  },
  {
   "cell_type": "code",
   "execution_count": 14,
   "metadata": {},
   "outputs": [
    {
     "name": "stderr",
     "output_type": "stream",
     "text": [
      "/ssd/users/cfx/conda_envs/conda_envs/py3.11/lib/python3.11/site-packages/anndata/_core/anndata.py:1145: ImplicitModificationWarning: Trying to modify attribute `.obs` of view, initializing view as actual.\n",
      "  df[key] = c\n",
      "/ssd/users/cfx/conda_envs/conda_envs/py3.11/lib/python3.11/site-packages/anndata/_core/anndata.py:1145: ImplicitModificationWarning: Trying to modify attribute `.obs` of view, initializing view as actual.\n",
      "  df[key] = c\n",
      "/ssd/users/cfx/conda_envs/conda_envs/py3.11/lib/python3.11/site-packages/anndata/_core/anndata.py:1145: ImplicitModificationWarning: Trying to modify attribute `.obs` of view, initializing view as actual.\n",
      "  df[key] = c\n",
      "/ssd/users/cfx/conda_envs/conda_envs/py3.11/lib/python3.11/site-packages/anndata/_core/anndata.py:1145: ImplicitModificationWarning: Trying to modify attribute `.obs` of view, initializing view as actual.\n",
      "  df[key] = c\n",
      "/ssd/users/cfx/conda_envs/conda_envs/py3.11/lib/python3.11/site-packages/anndata/_core/anndata.py:1145: ImplicitModificationWarning: Trying to modify attribute `.obs` of view, initializing view as actual.\n",
      "  df[key] = c\n",
      "/ssd/users/cfx/conda_envs/conda_envs/py3.11/lib/python3.11/site-packages/anndata/_core/anndata.py:1145: ImplicitModificationWarning: Trying to modify attribute `.obs` of view, initializing view as actual.\n",
      "  df[key] = c\n"
     ]
    }
   ],
   "source": [
    "ad_rna_bulk.write_h5ad(f\"{Target_dir}/ad_rna_bulk.h5ad\")"
   ]
  },
  {
   "cell_type": "code",
   "execution_count": null,
   "metadata": {},
   "outputs": [],
   "source": []
  },
  {
   "cell_type": "markdown",
   "metadata": {},
   "source": [
    "## preprocess chip data"
   ]
  },
  {
   "cell_type": "code",
   "execution_count": 15,
   "metadata": {},
   "outputs": [
    {
     "name": "stdout",
     "output_type": "stream",
     "text": [
      "(2395, 7)\n",
      "(2092, 7)\n"
     ]
    }
   ],
   "source": [
    "## subset chip to overlapped tissues \n",
    "print(chip_meta.shape)\n",
    "chip_meta = chip_meta[chip_meta['Biosample term name'].isin(tissue_overlap)]\n",
    "print(chip_meta.shape)\n",
    "\n",
    "## remove CTCF , too many samples... \n",
    "chip_meta = chip_meta[chip_meta['Target of assay']!=\"CTCF\"]"
   ]
  },
  {
   "cell_type": "code",
   "execution_count": 16,
   "metadata": {},
   "outputs": [
    {
     "name": "stdout",
     "output_type": "stream",
     "text": [
      "780 1736\n"
     ]
    }
   ],
   "source": [
    "bed_dir = f\"{chip_data_dir}/bedNarrow_process\"\n",
    "bed_files = chip_meta['bed narrowPeak'].dropna()\n",
    "all_tfs = chip_meta['Target of assay'].unique()\n",
    "print(len(all_tfs),len(bed_files))\n"
   ]
  },
  {
   "cell_type": "code",
   "execution_count": null,
   "metadata": {},
   "outputs": [],
   "source": [
    "## merge to a shared peak set \n",
    "all_peaks_merge = pybedtools.BedTool([])\n",
    "\n",
    "for f in tqdm(bed_files):\n",
    "    f_full = f\"{bed_dir}/{f}.bed\"\n",
    "    aa = pybedtools.BedTool(f_full)\n",
    "    all_peaks_merge = all_peaks_merge.cat(aa)           ## merge by default \n",
    "\n",
    "all_peaks_merge_df = pd.read_table(all_peaks_merge.fn, \n",
    "                                    names=['chrom', 'start', 'stop'])\n",
    "all_peaks_merge_df.index = all_peaks_merge_df['chrom'] + \":\" + all_peaks_merge_df['start'].astype(str) + \"-\" + all_peaks_merge_df['stop'].astype(str)\n"
   ]
  },
  {
   "cell_type": "code",
   "execution_count": null,
   "metadata": {},
   "outputs": [],
   "source": [
    "## each sample's overlap with the merged peak set \n",
    "for f in tqdm(bed_files):               \n",
    "    f_full = f\"{bed_dir}/{f}.bed\"\n",
    "    aa = pybedtools.BedTool(f_full)\n",
    "    overlap_df = pd.read_table((all_peaks_merge + aa).fn,\n",
    "                            names=['chrom', 'start', 'stop', 'a', 'b', 'c', 'd', 'e', 'f', 'g'])\n",
    "    overlap_df.index = overlap_df['chrom'] + \":\" + overlap_df['start'].astype(str) + \"-\" + overlap_df['stop'].astype(str)\n",
    "    all_peaks_merge_df[f] = np.zeros(len(all_peaks_merge_df), dtype=bool)\n",
    "    all_peaks_merge_df.loc[overlap_df.index, f] = True"
   ]
  },
  {
   "cell_type": "code",
   "execution_count": null,
   "metadata": {},
   "outputs": [],
   "source": [
    "all_peaks_merge_df_tidy = all_peaks_merge_df.loc[:,[\"ENCFF\" in col for col in all_peaks_merge_df.columns]]      #(n_peak, n_tissue)\n"
   ]
  },
  {
   "cell_type": "code",
   "execution_count": null,
   "metadata": {},
   "outputs": [],
   "source": [
    "### write each tf sequences to target \n",
    "import scipy.sparse \n",
    "ad_chip = anndata.AnnData(all_peaks_merge_df_tidy.T)\n",
    "ad_chip.var['chr'] = all_peaks_merge_df['chrom']\n",
    "ad_chip.var['start'] = all_peaks_merge_df['start']\n",
    "ad_chip.var['end'] = all_peaks_merge_df['stop']\n",
    "\n",
    "ad_chip.X = scipy.sparse.csr_matrix(ad_chip.X)\n",
    "\n",
    "chip_meta.index = chip_meta['bed narrowPeak']\n",
    "chip_meta = chip_meta.loc[ad_chip.obs.index,:]\n",
    "ad_chip.obs = chip_meta"
   ]
  },
  {
   "cell_type": "code",
   "execution_count": null,
   "metadata": {},
   "outputs": [],
   "source": [
    "ad_chip.write_h5ad(f\"{Target_dir}/ad_chip.h5ad\")"
   ]
  },
  {
   "cell_type": "code",
   "execution_count": 52,
   "metadata": {},
   "outputs": [
    {
     "data": {
      "text/plain": [
       "AnnData object with n_obs × n_vars = 1736 × 1086877\n",
       "    obs: 'Accession', 'Target of assay', 'Biosample term name', 'Biosample classification', 'Assay title', 'bed narrowPeak', 'process version'\n",
       "    var: 'chr', 'start', 'end'"
      ]
     },
     "execution_count": 52,
     "metadata": {},
     "output_type": "execute_result"
    }
   ],
   "source": [
    "ad_chip = sc.read_h5ad(f\"{Target_dir}/ad_chip.h5ad\")\n",
    "ad_chip"
   ]
  },
  {
   "cell_type": "code",
   "execution_count": 53,
   "metadata": {},
   "outputs": [
    {
     "name": "stdout",
     "output_type": "stream",
     "text": [
      "51 44793\n"
     ]
    },
    {
     "data": {
      "image/png": "[encoded data removed]",
      "text/plain": [
       "<Figure size 640x480 with 1 Axes>"
      ]
     },
     "metadata": {},
     "output_type": "display_data"
    }
   ],
   "source": [
    "len_seq = ad_chip.var['end'] - ad_chip.var['start']\n",
    "print(np.min(len_seq), np.max(len_seq))\n",
    "plt.hist(np.log10(len_seq), bins=100);\n",
    "plt.xlabel(\"log10(merged sequence length)\");\n",
    "# print(np.log10(1344*2))\n",
    "# plt.vlines(np.log10(1344*2),0, 100000, colors='red');"
   ]
  },
  {
   "cell_type": "code",
   "execution_count": 42,
   "metadata": {},
   "outputs": [],
   "source": [
    "chip_summary = pd.DataFrame(ad_chip.to_df().sum(axis=0)/ad_chip.shape[0], columns=['perc_positive_sample'])\n",
    "seq_len_bins = pd.cut(np.log10(len_seq), bins=10)\n",
    "chip_summary['_log_seq_len_bin'] = seq_len_bins"
   ]
  },
  {
   "cell_type": "code",
   "execution_count": 43,
   "metadata": {},
   "outputs": [
    {
     "data": {
      "text/html": [
       "<div>\n",
       "<style scoped>\n",
       "    .dataframe tbody tr th:only-of-type {\n",
       "        vertical-align: middle;\n",
       "    }\n",
       "\n",
       "    .dataframe tbody tr th {\n",
       "        vertical-align: top;\n",
       "    }\n",
       "\n",
       "    .dataframe thead th {\n",
       "        text-align: right;\n",
       "    }\n",
       "</style>\n",
       "<table border=\"1\" class=\"dataframe\">\n",
       "  <thead>\n",
       "    <tr style=\"text-align: right;\">\n",
       "      <th></th>\n",
       "      <th>perc_positive_sample</th>\n",
       "      <th>_log_seq_len_bin</th>\n",
       "    </tr>\n",
       "  </thead>\n",
       "  <tbody>\n",
       "    <tr>\n",
       "      <th>chr1:9825-10444</th>\n",
       "      <td>0.005760</td>\n",
       "      <td>(2.591, 2.885]</td>\n",
       "    </tr>\n",
       "    <tr>\n",
       "      <th>chr1:30604-31108</th>\n",
       "      <td>0.001152</td>\n",
       "      <td>(2.591, 2.885]</td>\n",
       "    </tr>\n",
       "    <tr>\n",
       "      <th>chr1:51978-52358</th>\n",
       "      <td>0.000576</td>\n",
       "      <td>(2.296, 2.591]</td>\n",
       "    </tr>\n",
       "    <tr>\n",
       "      <th>chr1:83547-84237</th>\n",
       "      <td>0.000576</td>\n",
       "      <td>(2.591, 2.885]</td>\n",
       "    </tr>\n",
       "    <tr>\n",
       "      <th>chr1:90978-91321</th>\n",
       "      <td>0.000576</td>\n",
       "      <td>(2.296, 2.591]</td>\n",
       "    </tr>\n",
       "  </tbody>\n",
       "</table>\n",
       "</div>"
      ],
      "text/plain": [
       "                  perc_positive_sample _log_seq_len_bin\n",
       "chr1:9825-10444               0.005760   (2.591, 2.885]\n",
       "chr1:30604-31108              0.001152   (2.591, 2.885]\n",
       "chr1:51978-52358              0.000576   (2.296, 2.591]\n",
       "chr1:83547-84237              0.000576   (2.591, 2.885]\n",
       "chr1:90978-91321              0.000576   (2.296, 2.591]"
      ]
     },
     "execution_count": 43,
     "metadata": {},
     "output_type": "execute_result"
    }
   ],
   "source": [
    "chip_summary[:5]"
   ]
  },
  {
   "cell_type": "code",
   "execution_count": 47,
   "metadata": {},
   "outputs": [
    {
     "data": {
      "image/png": "[encoded data removed]",
      "text/plain": [
       "<Figure size 640x480 with 1 Axes>"
      ]
     },
     "metadata": {},
     "output_type": "display_data"
    }
   ],
   "source": [
    "ax = chip_summary.boxplot(by='_log_seq_len_bin');\n",
    "ax.set_xticklabels(ax.get_xticklabels(),rotation=90);\n"
   ]
  },
  {
   "cell_type": "code",
   "execution_count": 61,
   "metadata": {},
   "outputs": [
    {
     "name": "stdout",
     "output_type": "stream",
     "text": [
      "4 76115\n"
     ]
    },
    {
     "data": {
      "image/png": "[encoded data removed]",
      "text/plain": [
       "<Figure size 640x480 with 1 Axes>"
      ]
     },
     "metadata": {},
     "output_type": "display_data"
    }
   ],
   "source": [
    "sample_expression = np.array(ad_chip.X.sum(axis=1)).flatten()      \n",
    "print(np.min(sample_expression), np.max(sample_expression))\n",
    "plt.hist(sample_expression, bins=100);\n",
    "plt.xlabel(\"number of positive peaks in each sample\");"
   ]
  },
  {
   "cell_type": "code",
   "execution_count": 65,
   "metadata": {},
   "outputs": [
    {
     "name": "stdout",
     "output_type": "stream",
     "text": [
      "(1701, 1086877)\n"
     ]
    }
   ],
   "source": [
    "## filter out samples with <= 500 peaks \n",
    "ad_chip = ad_chip[sample_expression>500, :]         ## ~ 0.02 quantile \n",
    "print(ad_chip.shape)"
   ]
  },
  {
   "cell_type": "code",
   "execution_count": 66,
   "metadata": {},
   "outputs": [
    {
     "name": "stdout",
     "output_type": "stream",
     "text": [
      "0 1432\n"
     ]
    },
    {
     "data": {
      "image/png": "[encoded data removed]",
      "text/plain": [
       "<Figure size 640x480 with 1 Axes>"
      ]
     },
     "metadata": {},
     "output_type": "display_data"
    }
   ],
   "source": [
    "peak_expression = np.array(ad_chip.X.sum(axis=0)).flatten()\n",
    "print(np.min(peak_expression), np.max(peak_expression))\n",
    "plt.hist(peak_expression, bins=100);\n",
    "plt.xlabel(\"number of positive samples in each peak\");"
   ]
  },
  {
   "cell_type": "code",
   "execution_count": 68,
   "metadata": {},
   "outputs": [
    {
     "name": "stdout",
     "output_type": "stream",
     "text": [
      "(1701, 1086397)\n"
     ]
    }
   ],
   "source": [
    "ad_chip = ad_chip[:,peak_expression>0]         ## ~ 0.02 quantile \n",
    "print(ad_chip.shape)"
   ]
  },
  {
   "cell_type": "code",
   "execution_count": 69,
   "metadata": {},
   "outputs": [],
   "source": [
    "ad_chip.write_h5ad(f\"{Target_dir}/ad_chip_filtered.h5ad\")"
   ]
  },
  {
   "cell_type": "code",
   "execution_count": null,
   "metadata": {},
   "outputs": [],
   "source": []
  },
  {
   "cell_type": "markdown",
   "metadata": {},
   "source": [
    "## write chip sequences to fasta"
   ]
  },
  {
   "cell_type": "code",
   "execution_count": 5,
   "metadata": {},
   "outputs": [],
   "source": [
    "def seq_pos_2_fasta(seqs:pd.DataFrame, fasta_ref=f\"{BASE_DIR}/genomes/hg38/hg38.fa\", save_path=\"\"):\n",
    "    '''\n",
    "    seqs: pd dataframe of columns [\"chrom\", 'start', 'stop'] \n",
    "    '''\n",
    "    a = pybedtools.BedTool.from_dataframe(seqs)\n",
    "    a = a.sequence(fi=fasta_ref)\n",
    "    a.save_seqs(save_path)    \n",
    "    return"
   ]
  },
  {
   "cell_type": "code",
   "execution_count": 6,
   "metadata": {},
   "outputs": [
    {
     "data": {
      "text/plain": [
       "AnnData object with n_obs × n_vars = 1701 × 1086397\n",
       "    obs: 'Accession', 'Target of assay', 'Biosample term name', 'Biosample classification', 'Assay title', 'bed narrowPeak', 'process version'\n",
       "    var: 'chr', 'start', 'end'"
      ]
     },
     "execution_count": 6,
     "metadata": {},
     "output_type": "execute_result"
    }
   ],
   "source": [
    "ad_chip = sc.read_h5ad(f\"{Target_dir}/ad_chip_filtered.h5ad\")\n",
    "ad_chip"
   ]
  },
  {
   "cell_type": "code",
   "execution_count": 7,
   "metadata": {},
   "outputs": [
    {
     "data": {
      "text/html": [
       "<div>\n",
       "<style scoped>\n",
       "    .dataframe tbody tr th:only-of-type {\n",
       "        vertical-align: middle;\n",
       "    }\n",
       "\n",
       "    .dataframe tbody tr th {\n",
       "        vertical-align: top;\n",
       "    }\n",
       "\n",
       "    .dataframe thead th {\n",
       "        text-align: right;\n",
       "    }\n",
       "</style>\n",
       "<table border=\"1\" class=\"dataframe\">\n",
       "  <thead>\n",
       "    <tr style=\"text-align: right;\">\n",
       "      <th></th>\n",
       "      <th>chrom</th>\n",
       "      <th>start</th>\n",
       "      <th>stop</th>\n",
       "    </tr>\n",
       "  </thead>\n",
       "  <tbody>\n",
       "    <tr>\n",
       "      <th>chr1:9825-10444</th>\n",
       "      <td>chr1</td>\n",
       "      <td>9825</td>\n",
       "      <td>10444</td>\n",
       "    </tr>\n",
       "    <tr>\n",
       "      <th>chr1:30604-31108</th>\n",
       "      <td>chr1</td>\n",
       "      <td>30604</td>\n",
       "      <td>31108</td>\n",
       "    </tr>\n",
       "    <tr>\n",
       "      <th>chr1:51978-52358</th>\n",
       "      <td>chr1</td>\n",
       "      <td>51978</td>\n",
       "      <td>52358</td>\n",
       "    </tr>\n",
       "    <tr>\n",
       "      <th>chr1:83547-84237</th>\n",
       "      <td>chr1</td>\n",
       "      <td>83547</td>\n",
       "      <td>84237</td>\n",
       "    </tr>\n",
       "    <tr>\n",
       "      <th>chr1:90978-91321</th>\n",
       "      <td>chr1</td>\n",
       "      <td>90978</td>\n",
       "      <td>91321</td>\n",
       "    </tr>\n",
       "  </tbody>\n",
       "</table>\n",
       "</div>"
      ],
      "text/plain": [
       "                 chrom  start   stop\n",
       "chr1:9825-10444   chr1   9825  10444\n",
       "chr1:30604-31108  chr1  30604  31108\n",
       "chr1:51978-52358  chr1  51978  52358\n",
       "chr1:83547-84237  chr1  83547  84237\n",
       "chr1:90978-91321  chr1  90978  91321"
      ]
     },
     "execution_count": 7,
     "metadata": {},
     "output_type": "execute_result"
    }
   ],
   "source": [
    "chip_regions = pd.DataFrame(index = ad_chip.var.index, columns=[\"chrom\", \"start\", \"stop\"])\n",
    "chip_regions['chrom'] = chip_regions.index.str.split(\":\").str[0]\n",
    "chip_regions['start'] = chip_regions.index.str.split(\":\").str[1].str.split(\"-\").str[0]\n",
    "chip_regions['stop'] = chip_regions.index.str.split(\":\").str[1].str.split(\"-\").str[1]\n",
    "chip_regions[:5]"
   ]
  },
  {
   "cell_type": "code",
   "execution_count": 8,
   "metadata": {},
   "outputs": [
    {
     "name": "stderr",
     "output_type": "stream",
     "text": [
      "Warning: the index file is older than the FASTA file.\n"
     ]
    }
   ],
   "source": [
    "seq_pos_2_fasta(seqs=chip_regions, \n",
    "                fasta_ref=f\"{BASE_DIR}/genomes/hg38/hg38.fa\", \n",
    "                save_path=f\"{Target_dir}/chip_seqs.fasta\")"
   ]
  },
  {
   "cell_type": "code",
   "execution_count": null,
   "metadata": {},
   "outputs": [],
   "source": []
  }
 ],
 "metadata": {
  "kernelspec": {
   "display_name": "py3.11",
   "language": "python",
   "name": "python3"
  },
  "language_info": {
   "codemirror_mode": {
    "name": "ipython",
    "version": 3
   },
   "file_extension": ".py",
   "mimetype": "text/x-python",
   "name": "python",
   "nbconvert_exporter": "python",
   "pygments_lexer": "ipython3",
   "version": "3.11.9"
  }
 },
 "nbformat": 4,
 "nbformat_minor": 2
}
